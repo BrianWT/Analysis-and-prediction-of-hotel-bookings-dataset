{
 "cells": [
  {
   "cell_type": "markdown",
   "metadata": {},
   "source": [
    "# 对Hotel bookings数据集的探索性数据分析及预定取消情况的预测"
   ]
  },
  {
   "cell_type": "markdown",
   "metadata": {},
   "source": [
    "Hotel bookings dataset 来源于(https://www.kaggle.com/jessemostipak/hotel-booking-demand)。该数据最初摘自Nuno Antonio，Ana Almeida和Luis Nunes为2019年2月第22卷的数据简介撰写的酒店预订需求数据集。现已由 Thomas Mock 和 Antoine Bichat 在2020年2月11日下载清理并发布(https://github.com/rfordatascience/tidytuesday/blob/master/data/2020/2020-02-11/readme.md)。\n",
    "\n",
    "该数据集具体包含两个不同酒店的数据，其中包括一家度假酒店和一家城市酒店。包括诸如预订的时间、停留时间、成人、儿童或婴儿的数量以及可用停车位的数量等信息，总计36个变量。\n",
    "\n",
    "本项目的工作主要为两个部分，第一是基于该数据集进行探索性数据分析（EDA），进而挖掘出数据集包含的一些潜在信息；第二是基于因变量（is_canceled）建立一个有效的模型来预测客人是否真的会来，为酒店具体营业计划的制定提供一些支撑。"
   ]
  },
  {
   "cell_type": "markdown",
   "metadata": {},
   "source": [
    "## 1.探索性数据分析"
   ]
  },
  {
   "cell_type": "code",
   "execution_count": null,
   "metadata": {},
   "outputs": [],
   "source": []
  },
  {
   "cell_type": "markdown",
   "metadata": {},
   "source": [
    "## 2.预测酒店预约的取消情况"
   ]
  },
  {
   "cell_type": "code",
   "execution_count": null,
   "metadata": {},
   "outputs": [],
   "source": []
  },
  {
   "cell_type": "markdown",
   "metadata": {},
   "source": [
    "## 参考"
   ]
  },
  {
   "cell_type": "code",
   "execution_count": null,
   "metadata": {},
   "outputs": [],
   "source": []
  }
 ],
 "metadata": {
  "kernelspec": {
   "display_name": "Python 3",
   "language": "python",
   "name": "python3"
  },
  "language_info": {
   "codemirror_mode": {
    "name": "ipython",
    "version": 3
   },
   "file_extension": ".py",
   "mimetype": "text/x-python",
   "name": "python",
   "nbconvert_exporter": "python",
   "pygments_lexer": "ipython3",
   "version": "3.7.6"
  }
 },
 "nbformat": 4,
 "nbformat_minor": 4
}
